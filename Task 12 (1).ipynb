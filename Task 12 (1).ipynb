{
 "cells": [
  {
   "cell_type": "markdown",
   "id": "8060b9a4",
   "metadata": {},
   "source": [
    "**while loops and their use in programming.**\n",
    "1. Write a Python program that uses a while loop to print the numbers from `A` to `P`.\n",
    "\n",
    "2. Modify the program to print only the even numbers from `1 to 20 except mutiple of 3` using a while loop.\n",
    "\n",
    "3. Create a program that prompts the user for an integer input and then uses a while loop to print the countdown from `that number to 1`.\n",
    "\n",
    "\n",
    "4. Write a Python program that uses a while loop to repeatedly ask the user to enter a number. If the user enters 0, exit the loop using the `break` statement. Otherwise, continue prompting for numbers.\n",
    "\n",
    "5. Create a program that uses a while loop to print the numbers from 1 to 20, but skip printing the numbers 5, 10, and 15 using the `continue` statement.\n",
    "\n",
    "6. Write a Python program that simulates a simple password entry system. Ask the user to enter a password, and use a while loop to repeatedly prompt for the password until the correct password \"abc123\" is entered. Once the correct password is entered, exit the loop.\n",
    "\n",
    "7. Calculate and print the sum of all the positive integers entered by the user.\n",
    "\n",
    "\n",
    "\n",
    "."
   ]
  },
  {
   "cell_type": "raw",
   "id": "bb3239c4",
   "metadata": {},
   "source": [
    "Write a Python program that uses a while loop to print the numbers from A to P."
   ]
  },
  {
   "cell_type": "code",
   "execution_count": 1,
   "id": "52e3cf5e",
   "metadata": {},
   "outputs": [
    {
     "name": "stdout",
     "output_type": "stream",
     "text": [
      "A\n",
      "B\n",
      "C\n",
      "D\n",
      "E\n",
      "F\n",
      "G\n",
      "H\n",
      "I\n",
      "J\n",
      "K\n",
      "L\n",
      "M\n",
      "N\n",
      "O\n",
      "P\n"
     ]
    }
   ],
   "source": [
    "a=1\n",
    "while a<=16:\n",
    "    print(chr(64+a))\n",
    "    a=a+1"
   ]
  },
  {
   "cell_type": "raw",
   "id": "39479272",
   "metadata": {},
   "source": [
    "Modify the program to print only the even numbers from 1 to 20 except mutiple of 3 using a while loop."
   ]
  },
  {
   "cell_type": "code",
   "execution_count": 37,
   "id": "982bdee2",
   "metadata": {},
   "outputs": [
    {
     "name": "stdout",
     "output_type": "stream",
     "text": [
      "2\n",
      "4\n",
      "8\n",
      "10\n",
      "14\n",
      "16\n",
      "20\n"
     ]
    }
   ],
   "source": [
    "n=1\n",
    "while n<=20:\n",
    "    if n%2==0 and n%3!=0:\n",
    "        print(n)\n",
    "    n=n+1"
   ]
  },
  {
   "cell_type": "raw",
   "id": "3f0a4e07",
   "metadata": {},
   "source": [
    "Create a program that prompts the user for an integer input and then uses a while loop to print the countdown from that number to 1."
   ]
  },
  {
   "cell_type": "code",
   "execution_count": 38,
   "id": "6c508b96",
   "metadata": {},
   "outputs": [
    {
     "name": "stdout",
     "output_type": "stream",
     "text": [
      "enter a number:  10\n",
      "10\n",
      "9\n",
      "8\n",
      "7\n",
      "6\n",
      "5\n",
      "4\n",
      "3\n",
      "2\n",
      "1\n"
     ]
    }
   ],
   "source": [
    "n=int(input(\"enter a number:  \"))\n",
    "\n",
    "while n>=1:\n",
    "    print(n)\n",
    "    n=n-1"
   ]
  },
  {
   "cell_type": "raw",
   "id": "9ab3bf65",
   "metadata": {},
   "source": [
    "Write a Python program that uses a while loop to repeatedly ask the user to enter a number. If the user enters 0, exit the loop using the break statement. Otherwise, continue prompting for numbers"
   ]
  },
  {
   "cell_type": "code",
   "execution_count": null,
   "id": "db1c5ba2",
   "metadata": {},
   "outputs": [
    {
     "name": "stdout",
     "output_type": "stream",
     "text": [
      "Enter a number ::10\n",
      "Enter a number :: 19\n",
      "Enter a number :: 0\n"
     ]
    }
   ],
   "source": [
    "a = int(input(\"Enter a number ::\"))\n",
    "while a:\n",
    "    if a == 0 :\n",
    "        break\n",
    "    else :\n",
    "        num1 = int(input(\"Enter a number :: \"))"
   ]
  },
  {
   "cell_type": "raw",
   "id": "e853bd38",
   "metadata": {},
   "source": [
    "Create a program that uses a while loop to print the numbers from 1 to 20, but skip printing the numbers 5, 10, and 15 using the continue statement."
   ]
  },
  {
   "cell_type": "code",
   "execution_count": 15,
   "id": "99478289",
   "metadata": {},
   "outputs": [
    {
     "name": "stdout",
     "output_type": "stream",
     "text": [
      "2\n",
      "3\n",
      "4\n",
      "6\n",
      "7\n",
      "8\n",
      "9\n",
      "11\n",
      "12\n",
      "13\n",
      "14\n",
      "16\n",
      "17\n",
      "18\n",
      "19\n",
      "20\n",
      "21\n"
     ]
    }
   ],
   "source": [
    "a=1\n",
    "while a<=20:\n",
    "    a=a+1\n",
    "    if a==5:\n",
    "        continue\n",
    "    elif a==10:\n",
    "        continue\n",
    "    elif a==15:\n",
    "        continue\n",
    "    print(a)  "
   ]
  },
  {
   "cell_type": "raw",
   "id": "be74457b",
   "metadata": {},
   "source": [
    "   Write a Python program that simulates a simple password entry system. Ask the user to enter a password, and use a while loop to repeatedly prompt for the password until the correct password \"abc123\" is entered. Once the correct password is entered, exit the loop."
   ]
  },
  {
   "cell_type": "code",
   "execution_count": 1,
   "id": "ec5c834f",
   "metadata": {},
   "outputs": [
    {
     "name": "stdout",
     "output_type": "stream",
     "text": [
      "enter the password:  abhishek\n",
      "enter the correct password:  abc123\n"
     ]
    }
   ],
   "source": [
    "a=input(\"enter the password:  \")\n",
    "\n",
    "while a:\n",
    "    if(a!=\"abc123\"):\n",
    "        a=input(\"enter the correct password:  \")\n",
    "    else:\n",
    "        break"
   ]
  },
  {
   "cell_type": "raw",
   "id": "e7f88a19",
   "metadata": {},
   "source": [
    "7. Calculate and print the sum of all the positive integers entered by the user.\n"
   ]
  },
  {
   "cell_type": "code",
   "execution_count": null,
   "id": "62276df8",
   "metadata": {},
   "outputs": [
    {
     "name": "stdout",
     "output_type": "stream",
     "text": [
      "enter the number:  10\n",
      "enter the number:  20\n",
      "30\n"
     ]
    }
   ],
   "source": [
    "a=int(input(\"enter the number:  \"))\n",
    "b=a\n",
    "while a:\n",
    "    if a>0:\n",
    "        a=int(input(\"enter the number:  \"))\n",
    "        b=b+a\n",
    "        print(b)\n",
    "        \n",
    "    else:\n",
    "        break"
   ]
  },
  {
   "cell_type": "code",
   "execution_count": null,
   "id": "959ee11a",
   "metadata": {},
   "outputs": [],
   "source": []
  }
 ],
 "metadata": {
  "kernelspec": {
   "display_name": "Python 3 (ipykernel)",
   "language": "python",
   "name": "python3"
  },
  "language_info": {
   "codemirror_mode": {
    "name": "ipython",
    "version": 3
   },
   "file_extension": ".py",
   "mimetype": "text/x-python",
   "name": "python",
   "nbconvert_exporter": "python",
   "pygments_lexer": "ipython3",
   "version": "3.11.4"
  }
 },
 "nbformat": 4,
 "nbformat_minor": 5
}
